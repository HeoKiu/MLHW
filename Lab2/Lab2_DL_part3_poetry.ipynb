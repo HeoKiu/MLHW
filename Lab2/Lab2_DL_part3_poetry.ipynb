{
  "cells": [
    {
      "cell_type": "markdown",
      "metadata": {
        "id": "103QBdbBQo7q"
      },
      "source": [
        "## Lab 2"
      ]
    },
    {
      "cell_type": "markdown",
      "metadata": {
        "id": "Z0LSZ8VdQo7w"
      },
      "source": [
        "### Part 3. Poetry generation\n",
        "\n",
        "Let's try to generate some poetry using RNNs. \n",
        "\n",
        "You have several choices here: \n",
        "\n",
        "* The Shakespeare sonnets, file `sonnets.txt` available in the notebook directory.\n",
        "\n",
        "* Роман в стихах \"Евгений Онегин\" Александра Сергеевича Пушкина. В предобработанном виде доступен по [ссылке](https://github.com/attatrol/data_sources/blob/master/onegin.txt).\n",
        "\n",
        "* Some other text source, if it will be approved by the course staff.\n",
        "\n",
        "Text generation can be designed in several steps:\n",
        "    \n",
        "1. Data loading.\n",
        "2. Dictionary generation.\n",
        "3. Data preprocessing.\n",
        "4. Model (neural network) training.\n",
        "5. Text generation (model evaluation).\n"
      ]
    },
    {
      "cell_type": "code",
      "execution_count": 2,
      "metadata": {
        "id": "2KkOEv7CQo7y"
      },
      "outputs": [],
      "source": [
        "import string\n",
        "import os\n",
        "import numpy as np"
      ]
    },
    {
      "cell_type": "markdown",
      "metadata": {
        "id": "Y8obcBBJQo70"
      },
      "source": [
        "### Data loading: Shakespeare"
      ]
    },
    {
      "cell_type": "markdown",
      "metadata": {
        "id": "1hM0be-cQo70"
      },
      "source": [
        "Shakespeare sonnets are awailable at this [link](http://www.gutenberg.org/ebooks/1041?msg=welcome_stranger). In addition, they are stored in the same directory as this notebook (`sonnetes.txt`). Simple preprocessing is already done for you in the next cell: all technical info is dropped."
      ]
    },
    {
      "cell_type": "code",
      "execution_count": 3,
      "metadata": {
        "collapsed": true,
        "id": "v9H2LEQOQo71",
        "outputId": "274ddf8c-59e4-4bee-cee1-4feab532b09d",
        "colab": {
          "base_uri": "https://localhost:8080/"
        }
      },
      "outputs": [
        {
          "output_type": "stream",
          "name": "stdout",
          "text": [
            "--2022-12-22 19:30:32--  https://raw.githubusercontent.com/girafe-ai/ml-course/22f_basic/homeworks/lab02_deep_learning/sonnets.txt\n",
            "Resolving raw.githubusercontent.com (raw.githubusercontent.com)... 185.199.108.133, 185.199.109.133, 185.199.110.133, ...\n",
            "Connecting to raw.githubusercontent.com (raw.githubusercontent.com)|185.199.108.133|:443... connected.\n",
            "HTTP request sent, awaiting response... 200 OK\n",
            "Length: 119748 (117K) [text/plain]\n",
            "Saving to: ‘sonnets.txt’\n",
            "\n",
            "sonnets.txt         100%[===================>] 116.94K  --.-KB/s    in 0.02s   \n",
            "\n",
            "2022-12-22 19:30:32 (6.74 MB/s) - ‘sonnets.txt’ saved [119748/119748]\n",
            "\n"
          ]
        }
      ],
      "source": [
        "if not os.path.exists('sonnets.txt'):\n",
        "  !wget https://raw.githubusercontent.com/girafe-ai/ml-course/22f_basic/homeworks/lab02_deep_learning/sonnets.txt\n",
        "\n",
        "with open('sonnets.txt', 'r') as iofile:\n",
        "    text = iofile.readlines()\n",
        "    \n",
        "TEXT_START = 45\n",
        "TEXT_END = -368\n",
        "text = text[TEXT_START : TEXT_END]\n",
        "assert len(text) == 2616"
      ]
    },
    {
      "cell_type": "markdown",
      "metadata": {
        "id": "beZdus-EQo72"
      },
      "source": [
        "In opposite to the in-class practice, this time we want to predict complex text. Let's reduce the complexity of the task and lowercase all the symbols.\n",
        "\n",
        "Now variable `text` is a list of strings. Join all the strings into one and lowercase it."
      ]
    },
    {
      "cell_type": "code",
      "execution_count": 4,
      "metadata": {
        "id": "_ApbGxA7Qo73",
        "outputId": "70adcfc6-a719-42f5-92fc-ff4353e69b13",
        "colab": {
          "base_uri": "https://localhost:8080/"
        }
      },
      "outputs": [
        {
          "output_type": "stream",
          "name": "stdout",
          "text": [
            "OK!\n"
          ]
        }
      ],
      "source": [
        "# Join all the strings into one and lowercase it\n",
        "# Put result into variable text.\n",
        "\n",
        "# Your great code here\n",
        "text = ''.join(text).lower()\n",
        "\n",
        "assert len(text) == 100225, 'Are you sure you have concatenated all the strings?'\n",
        "assert not any([x in set(text) for x in string.ascii_uppercase]), 'Uppercase letters are present'\n",
        "print('OK!')"
      ]
    },
    {
      "cell_type": "markdown",
      "metadata": {
        "id": "gFLdxZTAQo76"
      },
      "source": [
        "In opposite to the in-class practice, this time we want to predict complex text. Let's reduce the complexity of the task and lowercase all the symbols.\n",
        "\n",
        "Now variable `text` is a list of strings. Join all the strings into one and lowercase it."
      ]
    },
    {
      "cell_type": "markdown",
      "metadata": {
        "id": "c_mPuTxFQo78"
      },
      "source": [
        "Put all the characters, that you've seen in the text, into variable `tokens`."
      ]
    },
    {
      "cell_type": "code",
      "execution_count": 5,
      "metadata": {
        "id": "qSIC1tueQo78"
      },
      "outputs": [],
      "source": [
        "tokens = sorted(set(text))\n"
      ]
    },
    {
      "cell_type": "markdown",
      "metadata": {
        "id": "WqxCOMs0Qo78"
      },
      "source": [
        "Create dictionary `token_to_idx = {<char>: <index>}` and dictionary `idx_to_token = {<index>: <char>}`"
      ]
    },
    {
      "cell_type": "code",
      "execution_count": 6,
      "metadata": {
        "collapsed": true,
        "id": "GNeGKlhBQo79"
      },
      "outputs": [],
      "source": [
        "# dict <index>:<char>\n",
        "# Your great code here\n",
        "\n",
        "# dict <char>:<index>\n",
        "# Your great code here\n",
        "token_to_idx = {token: idx for idx, token in enumerate(tokens)}\n",
        "idx_to_token = {idx: token for idx, token in enumerate(tokens)}\n",
        "assert len(token_to_idx) == len(idx_to_token)\n"
      ]
    },
    {
      "cell_type": "markdown",
      "metadata": {
        "id": "qwl8rtEDQo79"
      },
      "source": [
        "*Comment: in this task we have only 38 different tokens, so let's use one-hot encoding.*"
      ]
    },
    {
      "cell_type": "markdown",
      "metadata": {
        "id": "iQVr72JXQo79"
      },
      "source": [
        "### Building the model"
      ]
    },
    {
      "cell_type": "markdown",
      "metadata": {
        "id": "yvZF3R-VQo7-"
      },
      "source": [
        "Now we want to build and train recurrent neural net which would be able to something similar to Shakespeare's poetry.\n",
        "\n",
        "Let's use vanilla RNN, similar to the one created during the lesson."
      ]
    },
    {
      "cell_type": "code",
      "execution_count": 7,
      "metadata": {
        "collapsed": true,
        "id": "L8ldMOKBQo7-"
      },
      "outputs": [],
      "source": [
        "def to_matrix(pieces, max_length=None):\n",
        "  if max_length == None: \n",
        "    max_length = max(map(len, pieces))\n",
        "\n",
        "  text_ix = np.zeros((len(pieces), max_length), dtype='int32')\n",
        "  for i in range(len(pieces)): \n",
        "    line_ix = [token_to_idx[c] for c in pieces[i]]\n",
        "    text_ix[i, :len(line_ix)] = line_ix\n",
        "  return text_ix"
      ]
    },
    {
      "cell_type": "code",
      "source": [
        "import torch, torch.nn as nn\n",
        "import torch.nn.functional as F\n",
        "device = 'cuda'\n",
        "class CharRNNCell(nn.Module):\n",
        "    def __init__(self, num_tokens=len(tokens), embedding_size=16, rnn_num_units=64):\n",
        "        super(self.__class__,self).__init__()\n",
        "        self.num_units = rnn_num_units\n",
        "        self.embedding = nn.Embedding(num_tokens, embedding_size)\n",
        "        self.rnn_update = nn.Linear(embedding_size + rnn_num_units, rnn_num_units)\n",
        "        self.rnn_to_logits = nn.Linear(rnn_num_units, num_tokens)\n",
        "    def forward(self, x, h_prev):\n",
        "        x_emb = self.embedding(x)\n",
        "        x_and_h = torch.cat([x_emb, h_prev], dim=1)\n",
        "        h_next = self.rnn_update(x_and_h)\n",
        "        h_next = torch.tanh(h_next)\n",
        "        assert h_next.size() == h_prev.size()\n",
        "        logits = self.rnn_to_logits(h_next)\n",
        "        return h_next, F.log_softmax(logits, -1)\n",
        "    def initial_state(self, batch_size):\n",
        "        return torch.zeros(batch_size, self.num_units, requires_grad=True).to(device)"
      ],
      "metadata": {
        "id": "nNo3x0LXTNZo"
      },
      "execution_count": 8,
      "outputs": []
    },
    {
      "cell_type": "code",
      "source": [
        "def rnn_loop(char_rnn, batch_ix):\n",
        "    batch_size, max_length = batch_ix.size()\n",
        "    hid_state = char_rnn.initial_state(batch_size)\n",
        "    logprobs = []\n",
        "\n",
        "    for x_t in batch_ix.transpose(0,1):\n",
        "        hid_state, logp_next = char_rnn(x_t, hid_state)  # <-- here we call your one-step code\n",
        "        logprobs.append(logp_next)\n",
        "        \n",
        "    return torch.stack(logprobs, dim=1)"
      ],
      "metadata": {
        "id": "Ye7nHAPRTY9U"
      },
      "execution_count": 9,
      "outputs": []
    },
    {
      "cell_type": "code",
      "source": [
        "def get_shifts(num, start=0, piece_len=100, step=1):\n",
        "  result = []\n",
        "  for i in range(num): \n",
        "    if len(text) - 1 <= start + piece_len:\n",
        "      print(\"ooops\")\n",
        "      break\n",
        "    result.append(text[start:start+piece_len])\n",
        "    start += step\n",
        "  return result"
      ],
      "metadata": {
        "id": "GGnrbwMMTfDx"
      },
      "execution_count": 10,
      "outputs": []
    },
    {
      "cell_type": "code",
      "source": [
        "import torch, torch.nn as nn\n",
        "import torch.nn.functional as F\n",
        "device = 'cuda'"
      ],
      "metadata": {
        "id": "BSjG682IT5vL"
      },
      "execution_count": 11,
      "outputs": []
    },
    {
      "cell_type": "code",
      "source": [
        "from IPython.display import clear_output\n",
        "import matplotlib.pyplot as plt\n",
        "from random import sample\n",
        "from tqdm import trange\n",
        "\n",
        "char_rnn = CharRNNCell().to(device)\n",
        "opt = torch.optim.Adam(char_rnn.parameters())\n",
        "def training_loop(rnn, opt, epochs=30):\n",
        "  loss_history = []\n",
        "  for epoch in range(epochs):\n",
        "    loss_this_epoch = 0\n",
        "    for batch_idx in trange(NUM_BATCHES):\n",
        "      pieces = get_shifts(BATCH_SIZE, start=batch_idx * BATCH_SIZE, piece_len=MAX_LEN)\n",
        "      samples = torch.tensor(to_matrix(pieces), dtype=torch.int64).to(device)\n",
        "      batch_ix = samples[:, :-1]\n",
        "      opt.zero_grad()\n",
        "      logp_seq = rnn_loop(rnn, batch_ix)\n",
        "      actual_next_tokens = samples[:, 1:]\n",
        "      predictions_logp = logp_seq\n",
        "      logp_next = torch.gather(predictions_logp, dim=2, index=actual_next_tokens[:,:,None])\n",
        "      loss = -logp_next.mean()\n",
        "      #loss_history.append(loss.detach().cpu().numpy())\n",
        "      loss_this_epoch += loss.detach().cpu().numpy()\n",
        "      loss.backward()\n",
        "      opt.step()\n",
        "    loss_this_epoch /= NUM_BATCHES\n",
        "    print('Training epoch: {} Loss: {}'.format(epoch, loss_this_epoch))\n",
        "    loss_history.append(loss_this_epoch)\n",
        "    clear_output(True)\n",
        "    plt.plot(loss_history,label='loss')\n",
        "    plt.legend()\n",
        "    plt.show()\n",
        "\n",
        "  return loss_history"
      ],
      "metadata": {
        "id": "yGamdUijTxPh"
      },
      "execution_count": 14,
      "outputs": []
    },
    {
      "cell_type": "code",
      "source": [
        "MAX_LEN = 120\n",
        "BATCH_SIZE = 200\n",
        "NUM_BATCHES = (len(text) - MAX_LEN) // BATCH_SIZE\n",
        "from tqdm import tqdm\n",
        "tqdm._instances.clear()\n",
        "loss_history = training_loop(char_rnn, opt, 35)"
      ],
      "metadata": {
        "id": "WsovQ45NUZ0j",
        "outputId": "7a31c143-9c37-432b-f9fa-68c5f9be9c42",
        "colab": {
          "base_uri": "https://localhost:8080/",
          "height": 265
        }
      },
      "execution_count": 15,
      "outputs": [
        {
          "output_type": "display_data",
          "data": {
            "text/plain": [
              "<Figure size 432x288 with 1 Axes>"
            ],
            "image/png": "[encoded data removed]"
          },
          "metadata": {
            "needs_background": "light"
          }
        }
      ]
    },
    {
      "cell_type": "markdown",
      "metadata": {
        "id": "aJKV4EQmQo7-"
      },
      "source": [
        "Plot the loss function (axis X: number of epochs, axis Y: loss function)."
      ]
    },
    {
      "cell_type": "code",
      "execution_count": 16,
      "metadata": {
        "id": "ZiPNpfjUQo7_"
      },
      "outputs": [],
      "source": [
        "def generate_sample(char_rnn, seed_phrase=' Hello', max_length=120, temperature=1.0):\n",
        "    '''\n",
        "    ### Disclaimer: this is an example function for text generation.\n",
        "    ### You can either adapt it in your code or create your own function\n",
        "    \n",
        "    The function generates text given a phrase of length at least SEQ_LENGTH.\n",
        "    :param seed_phrase: prefix characters. The RNN is asked to continue the phrase\n",
        "    :param max_length: maximum output length, including seed_phrase\n",
        "    :param temperature: coefficient for sampling.  higher temperature produces more chaotic outputs, \n",
        "        smaller temperature converges to the single most likely output.\n",
        "        \n",
        "    Be careful with the model output. This model waits logits (not probabilities/log-probabilities)\n",
        "    of the next symbol.\n",
        "    '''\n",
        "    \n",
        "    x_sequence = [token_to_idx[token] for token in seed_phrase]\n",
        "    x_sequence = torch.tensor([x_sequence], dtype=torch.int64).to(device)\n",
        "    hid_state = char_rnn.initial_state(batch_size=1)\n",
        "  \n",
        "    for i in range(len(seed_phrase) - 1):\n",
        "        hid_state, out = char_rnn(x_sequence[:, i], hid_state)\n",
        "  \n",
        "    for _ in range(max_length - len(seed_phrase)):\n",
        "        hid_state, out = char_rnn(x_sequence[:, -1], hid_state)\n",
        "        p_next = F.softmax(out / temperature, dim=-1).data.cpu().numpy()[0]\n",
        "        next_ix = np.random.choice(len(tokens), p=p_next)\n",
        "        next_ix = torch.tensor([[next_ix]], dtype=torch.int64).to(device)\n",
        "        x_sequence = torch.cat([x_sequence, next_ix], dim=1)\n",
        "        \n",
        "    return ''.join([tokens[ix] for ix in x_sequence.data.cpu().numpy()[0]])"
      ]
    },
    {
      "cell_type": "code",
      "execution_count": 24,
      "metadata": {
        "id": "joI14xsmQo7_",
        "outputId": "1d157a1d-290f-4128-a873-9f8aaa898374",
        "colab": {
          "base_uri": "https://localhost:8080/"
        }
      },
      "outputs": [
        {
          "output_type": "stream",
          "name": "stdout",
          "text": [
            "eyes i no perverse bear me rease be pulnitur do of my plonn'l would hose i my becilous of the worthed my feartes'd not to deens heart thou did to least;\n",
            "  then love that show;\n",
            "    and my soud;\n",
            "  which face,\n",
            "  wher comest,\n",
            "  and your thou dout.\n",
            "\n",
            "  cxxiise,\n",
            "  the that that swoul i thy would worth, on thy self exceswers'd so one it seest thou dost do it strease,\n",
            "  for the thou be your such some i see sakent, for all host i helfichs,\n",
            "  but thes but whou love's fresping how eyes i chouds, in lainnt:\n",
            "\n"
          ]
        }
      ],
      "source": [
        "# An example of generated text.\n",
        "print(generate_sample(char_rnn, seed_phrase='eyes', max_length=500, temperature=0.8))\n"
      ]
    },
    {
      "cell_type": "markdown",
      "metadata": {
        "id": "8O9WvbUtQo8A"
      },
      "source": [
        "### More poetic model\n",
        "\n",
        "Let's use LSTM instead of vanilla RNN and compare the results."
      ]
    },
    {
      "cell_type": "markdown",
      "metadata": {
        "id": "VXhea9pFQo8A"
      },
      "source": [
        "Plot the loss function of the number of epochs. Does the final loss become better?"
      ]
    },
    {
      "cell_type": "code",
      "execution_count": 25,
      "metadata": {
        "collapsed": true,
        "id": "BRPU7bgWQo8A",
        "outputId": "1f3103a9-3e0a-4598-f22d-320d7517fda0",
        "colab": {
          "base_uri": "https://localhost:8080/",
          "height": 265
        }
      },
      "outputs": [
        {
          "output_type": "display_data",
          "data": {
            "text/plain": [
              "<Figure size 432x288 with 1 Axes>"
            ],
            "image/png": "[encoded data removed]"
          },
          "metadata": {
            "needs_background": "light"
          }
        }
      ],
      "source": [
        "device = 'cuda'\n",
        "class LSTMCell(nn.Module):\n",
        "    def __init__(self, num_tokens=len(tokens), embedding_size=16, rnn_num_units=64):\n",
        "        super(self.__class__,self).__init__()\n",
        "        self.num_units = rnn_num_units\n",
        "        self.embedding = nn.Embedding(num_tokens, embedding_size)\n",
        "        self.rnn_update = nn.LSTMCell(embedding_size, rnn_num_units)\n",
        "        self.rnn_to_logits = nn.Linear(rnn_num_units, num_tokens)\n",
        "        \n",
        "    def forward(self, x, h_prev):\n",
        "   \n",
        "        x_emb = self.embedding(x)\n",
        "        h_next = self.rnn_update(x_emb, h_prev)\n",
        "        logits = self.rnn_to_logits(h_next[0])\n",
        "        return h_next, F.log_softmax(logits, -1)\n",
        "    def initial_state(self, batch_size):\n",
        "        return [torch.zeros(batch_size, self.num_units, requires_grad=True).to(device) for i in range(2)]\n",
        "lstm_rnn = LSTMCell().to(device)\n",
        "lstm_opt = torch.optim.Adam(lstm_rnn.parameters())\n",
        "loss_history_lstm = training_loop(lstm_rnn, lstm_opt, 35)\n"
      ]
    },
    {
      "cell_type": "markdown",
      "metadata": {
        "id": "10vOg2qxQo8A"
      },
      "source": [
        "Generate text using the trained net with different `temperature` parameter: `[0.1, 0.2, 0.5, 1.0, 2.0]`.\n",
        "\n",
        "Evaluate the results visually, try to interpret them."
      ]
    },
    {
      "cell_type": "code",
      "execution_count": 26,
      "metadata": {
        "collapsed": true,
        "id": "uoP3c8_jQo8A",
        "outputId": "27f21f6a-430e-494a-803f-375d6c5960be",
        "colab": {
          "base_uri": "https://localhost:8080/"
        }
      },
      "outputs": [
        {
          "output_type": "stream",
          "name": "stdout",
          "text": [
            "\n",
            "***\n",
            "\n",
            "love thee thee thee thee thee to thee,\n",
            "    the world thee the world thee the world thee thee thee thee thee to me thee,\n",
            "  the world thee the world thee that the world thee thee thee thee thee strange,\n",
            "  the world thee the world thee the world thee thee thee thee thee to thee,\n",
            "  and the world thee the world thee the world thee thee to thee thee thee to me thee thee strange thee thee,\n",
            "  the world thee that the world thee the world thee thee thee thee thee thee strange,\n",
            "  the world thee the world t\n",
            "\n",
            "***\n",
            "\n",
            "love thee the world so thee,\n",
            "  that the world thee i so contercounter'd still i thee,\n",
            "  the world thee the worth thy summer's far is thee thee strange doth so be thee sweet despity,\n",
            "  when i have thou art the world to thee thee strange,\n",
            "  to me what the world thee the make thee the world my see,\n",
            "    the world thee the world that i should thee i should thee thee to my love,\n",
            "    the world that i so be the first the make they thee thee strong;\n",
            "  and the surving the world in thee i have strange thee\n",
            "\n",
            "***\n",
            "\n",
            "love is thee now are may,\n",
            "  which from they when say the world mine eye do not more death as beauty?\n",
            "  when i love the loss the main contate in the pertond.\n",
            "\n",
            "  cxxv\n",
            "\n",
            "  i a true to shall in my heart delight,\n",
            "  if thy self they thee art thee would i say i live,\n",
            "  and present worth's fair so in for my love how recect;\n",
            "  of the our fair doth the well roses best still word worthor that mace thee doth thee,\n",
            "  to sweet where that prove his may love is thee she that from my grace thee,\n",
            "  what thou art a\n",
            "\n",
            "***\n",
            "\n",
            "love,\n",
            "  for defelil at, eyed so it cartes fair love,\n",
            "  and not fol's adouthing wide sobence hore vursing true that doth wauctury:\n",
            "  that faul chis call to that praist trought od.\n",
            "\n",
            "  cxxxviii\n",
            "\n",
            "  whoses of make of thee hind not my such o'erterner deeds,\n",
            "  the do love ver it as sporroc\n",
            "    to senst not bottere world condown maight is darm soul frown\n",
            "  the helve thy hearthen of counterne,\n",
            "  which love sadverought all his duill;\n",
            "  so so me sharghtain stuil a callow\n",
            "  stile asprivings thee.\n",
            "    and is\n",
            "\n",
            "***\n",
            "\n",
            "lovens,\n",
            "  thou,t fidy'g's hues's your cponing?\n",
            "  bu mys reaution: ucprarcse;- loof osl ium kesum be:\n",
            "  winfoyes in ushsod!, seconjoun lo, in youat?\n",
            "     yraik'nd myselony tis thu, what legav'ur-i 'lish show macj?ckl:\n",
            "  qumty ihd i jracg: me tweemy actwaun.\n",
            "  pienoss un st love, himstirin slee;\n",
            "  orner.-m w:o comu-cdirific wing?\n",
            "  in j!ow;, and joy faur love, wkaking bsigh-'in,\n",
            "  whring as wtruzeb's merisbafp's?;\n",
            "  bulls i arvimlons, omrec, thy\n",
            "  xams.\n",
            "\n",
            "  lxxii\n",
            "\n",
            "\n",
            " ,\n",
            "  is wwond'd k eyes;\n",
            "  si,s to\n"
          ]
        }
      ],
      "source": [
        "print(\"\\n***\\n\")\n",
        "print(generate_sample(lstm_rnn, seed_phrase='love', max_length=500, temperature=0.1))\n",
        "print(\"\\n***\\n\")\n",
        "print(generate_sample(lstm_rnn, seed_phrase='love', max_length=500, temperature=0.2))\n",
        "print(\"\\n***\\n\")\n",
        "print(generate_sample(lstm_rnn, seed_phrase='love', max_length=500, temperature=0.5))\n",
        "print(\"\\n***\\n\")\n",
        "print(generate_sample(lstm_rnn, seed_phrase='love', max_length=500, temperature=1))\n",
        "print(\"\\n***\\n\")\n",
        "print(generate_sample(lstm_rnn, seed_phrase='love', max_length=500, temperature=2))"
      ]
    },
    {
      "cell_type": "markdown",
      "source": [
        "With low temperature, we often see repeat of the most frequent words so that's why we see so many thee thee thee....\n",
        "\n",
        "For 0.2 we still see the similar things : the worlds, thee...\n",
        "\n",
        "0.5 is ok, not much repetition but still no sense\n",
        "\n",
        "1 is good. Good structure and grammar \n",
        "\n",
        "2.0 - it doesnt work and text doesnt make any sense"
      ],
      "metadata": {
        "id": "HmhblWE9e1h5"
      }
    },
    {
      "cell_type": "markdown",
      "metadata": {
        "id": "OGPGtPUPQo8B"
      },
      "source": [
        "### Saving and loading models"
      ]
    },
    {
      "cell_type": "markdown",
      "metadata": {
        "id": "Vmm75Sj1Qo8B"
      },
      "source": [
        "Save the model to the disk, then load it and generate text. Examples are available [here](https://pytorch.org/tutorials/beginner/saving_loading_models.html])."
      ]
    },
    {
      "cell_type": "code",
      "execution_count": 27,
      "metadata": {
        "collapsed": true,
        "id": "53Fn3s1pQo8B"
      },
      "outputs": [],
      "source": [
        "torch.save(lstm_rnn, 'model')\n"
      ]
    },
    {
      "cell_type": "code",
      "source": [
        "loaded = torch.load('model')\n"
      ],
      "metadata": {
        "id": "o-6vaGf-fuSv"
      },
      "execution_count": 28,
      "outputs": []
    },
    {
      "cell_type": "code",
      "source": [
        "print(generate_sample(loaded, seed_phrase='love', max_length=500, temperature=1))\n"
      ],
      "metadata": {
        "id": "kVuJvwMcfvwn",
        "outputId": "ee1f249b-1d4e-47ff-ce24-3c340f04a106",
        "colab": {
          "base_uri": "https://localhost:8080/"
        }
      },
      "execution_count": 29,
      "outputs": [
        {
          "output_type": "stream",
          "name": "stdout",
          "text": [
            "love doth new is not so,\n",
            "  his not to can that i arn i sarfelion my dust thee thee.\n",
            "    when though never so lacks,\n",
            "  but it awoutlest so doth teerses refore?\n",
            "  thou art thy drast everse do charght'd, and they loss,\n",
            "  for this sadon form thy sweet may i grade,\n",
            "  in this far heaven's me proft noo still me\n",
            "  worthess no dief not forting hours thou know'st;\n",
            "  weit i dear that fairth lace, what pose in thy rudy;\n",
            "  but by this bust in stay when the pently dobh hiss,\n",
            "  when thy songrons kinds, like wh\n"
          ]
        }
      ]
    },
    {
      "cell_type": "markdown",
      "metadata": {
        "id": "Q5L8HjKrQo8B"
      },
      "source": [
        "### References\n",
        "1. <a href='http://karpathy.github.io/2015/05/21/rnn-effectiveness/'> Andrew Karpathy blog post about RNN. </a> \n",
        "There are several examples of genration: Shakespeare texts, Latex formulas, Linux Sourse Code and children names.\n",
        "2. <a href='https://github.com/karpathy/char-rnn'> Repo with char-rnn code </a>\n",
        "3. Cool repo with PyTorch examples: [link](https://github.com/spro/practical-pytorch`)"
      ]
    }
  ],
  "metadata": {
    "anaconda-cloud": {},
    "kernelspec": {
      "display_name": "Python 3",
      "language": "python",
      "name": "python3"
    },
    "language_info": {
      "codemirror_mode": {
        "name": "ipython",
        "version": 3
      },
      "file_extension": ".py",
      "mimetype": "text/x-python",
      "name": "python",
      "nbconvert_exporter": "python",
      "pygments_lexer": "ipython3",
      "version": "3.7.7"
    },
    "colab": {
      "provenance": []
    },
    "accelerator": "GPU",
    "gpuClass": "standard"
  },
  "nbformat": 4,
  "nbformat_minor": 0
}